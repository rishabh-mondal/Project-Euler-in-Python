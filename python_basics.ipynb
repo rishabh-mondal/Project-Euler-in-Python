{
 "cells": [
  {
   "cell_type": "markdown",
   "metadata": {},
   "source": [
    "# Python Basics, Lists, Strings, Dictionaries, File Handling, Statistics, and Flow Control"
   ]
  },
  {
   "cell_type": "markdown",
   "metadata": {},
   "source": [
    "### 1. List Operations and Basic Statistics:\n"
   ]
  },
  {
   "cell_type": "markdown",
   "metadata": {},
   "source": [
    "#### Create a list of the first 20 natural numbers.\n"
   ]
  },
  {
   "cell_type": "code",
   "execution_count": 1,
   "metadata": {},
   "outputs": [
    {
     "name": "stdout",
     "output_type": "stream",
     "text": [
      "[1, 2, 3, 4, 5, 6, 7, 8, 9, 10, 11, 12, 13, 14, 15, 16, 17, 18, 19, 20]\n"
     ]
    }
   ],
   "source": [
    "natural= list(range(1,21))\n",
    "print(natural)"
   ]
  },
  {
   "cell_type": "markdown",
   "metadata": {},
   "source": [
    "#### Compute the sum of all even numbers in the list."
   ]
  },
  {
   "cell_type": "code",
   "execution_count": 2,
   "metadata": {},
   "outputs": [
    {
     "name": "stdout",
     "output_type": "stream",
     "text": [
      "sum of even numbers: 110\n"
     ]
    }
   ],
   "source": [
    "evensum=0\n",
    "for i in natural:\n",
    "    if i%2==0:\n",
    "        # print(i)\n",
    "        evensum=evensum+i\n",
    "print('sum of even numbers:',evensum)\n"
   ]
  },
  {
   "cell_type": "code",
   "execution_count": 3,
   "metadata": {},
   "outputs": [
    {
     "name": "stdout",
     "output_type": "stream",
     "text": [
      "sum of even numbers: 110\n"
     ]
    }
   ],
   "source": [
    "## optimise code \n",
    "even_sum=sum([i for i in natural if i%2==0])\n",
    "print('sum of even numbers:',even_sum)"
   ]
  },
  {
   "cell_type": "markdown",
   "metadata": {},
   "source": [
    "#### Compute the product of all odd numbers in the list."
   ]
  },
  {
   "cell_type": "code",
   "execution_count": 4,
   "metadata": {},
   "outputs": [
    {
     "name": "stdout",
     "output_type": "stream",
     "text": [
      "product of odd numbers: 654729075\n"
     ]
    }
   ],
   "source": [
    "odd_product=1\n",
    "for i in natural:\n",
    "    if i%2!=0:\n",
    "        # print(i)\n",
    "        odd_product=odd_product*i\n",
    "print('product of odd numbers:',odd_product)\n"
   ]
  },
  {
   "cell_type": "code",
   "execution_count": 5,
   "metadata": {},
   "outputs": [
    {
     "name": "stdout",
     "output_type": "stream",
     "text": [
      "654729075\n"
     ]
    }
   ],
   "source": [
    "## optimise code\n",
    "from functools import reduce\n",
    "\n",
    "oddproduct=reduce(lambda x,y: x*y, (i for i in natural if i%2 !=0))\n",
    "print(oddproduct)"
   ]
  },
  {
   "cell_type": "markdown",
   "metadata": {},
   "source": [
    "#### Calculate the mean, median, and standard deviation of the list.\n"
   ]
  },
  {
   "cell_type": "code",
   "execution_count": 6,
   "metadata": {},
   "outputs": [
    {
     "name": "stdout",
     "output_type": "stream",
     "text": [
      "Sum: 210\n",
      "Mean: 10.5\n",
      "sorted number: [1, 2, 3, 4, 5, 6, 7, 8, 9, 10, 11, 12, 13, 14, 15, 16, 17, 18, 19, 20]\n",
      "median: 10.5\n",
      "variance 33.25\n",
      "stdev: 5.766281297335398\n"
     ]
    }
   ],
   "source": [
    "import math\n",
    "natural_sum=sum(i for i in natural)\n",
    "print('Sum:',natural_sum)\n",
    "##mean\n",
    "mean=natural_sum/len(natural)\n",
    "print(\"Mean:\",mean)\n",
    "\n",
    "##Median\n",
    "sort_natural=sorted(natural)\n",
    "print(\"sorted number:\",sort_natural)\n",
    "n=len(natural)\n",
    "if n%2==0:\n",
    "    median=(sort_natural[n//2-1]+sort_natural[n//2])/2\n",
    "    print('median:',median)\n",
    "else:\n",
    "    median=sort_natural[n//2]\n",
    "    print('median:',median)\n",
    "\n",
    "##  Standard Deviation\n",
    "variance=sum((x-mean)**2 for x in natural)/ n\n",
    "print(\"variance\",variance)\n",
    "stdev=math.sqrt(variance)\n",
    "print('stdev:',stdev)\n",
    "\n",
    " \n",
    "\n",
    "\n"
   ]
  },
  {
   "cell_type": "markdown",
   "metadata": {},
   "source": [
    "### 2. Mutable vs. Immutable Data Types: Explain the difference between mutable and immutable data types in Python. Provide examples of each."
   ]
  },
  {
   "cell_type": "markdown",
   "metadata": {},
   "source": [
    "Mutable Data Types: A mutable object is one whose state or value can be changed after it is created. You can modify, add, or remove elements from mutable objects without creating a new object.\n",
    "\n",
    "Immutable Data Types: An immutable object is one whose state or value cannot be changed after it is created. Once created, you cannot modify its contents, but you can create a new object if you need to change the value.\n",
    "\n",
    "#### Difference \n",
    "\n",
    "Mutable Data Types:\n",
    "\n",
    "Modification: You can directly change the contents of these objects. For example, you can append, remove, or modify elements in a list or dictionary.\n",
    "Performance: Modifying mutable objects is generally faster, especially when dealing with large datasets, because no new object needs to be created when the contents change.\n",
    "Memory: Mutable objects may have shared references, meaning multiple variables can point to the same object in memory, leading to potential side effects if one is modified.\n",
    "Examples of Mutable Data Types: Lists, dictionaries, and sets are all mutable in Python.\n",
    "\n",
    "Immutable Data Types:\n",
    "\n",
    "Modification: You cannot modify the content of these objects directly. If you want to change the value, a new object must be created.\n",
    "Performance: Modifying immutable objects often involves creating a new object, which may be less efficient in some cases compared to mutable objects.\n",
    "Memory: Immutable objects generally use less memory, as they cannot be modified, and the same object can be safely shared across different parts of a program.\n",
    "Examples of Immutable Data Types: Integers, strings, tuples, and frozensets are immutable in Python.\n",
    "\n"
   ]
  },
  {
   "cell_type": "code",
   "execution_count": 7,
   "metadata": {},
   "outputs": [
    {
     "name": "stdout",
     "output_type": "stream",
     "text": [
      "[10, 2, 3, 4]\n",
      "hello\n"
     ]
    }
   ],
   "source": [
    "## Mutable Data Types:\n",
    "my_list = [1, 2, 3]\n",
    "# Modify the first element\n",
    "my_list[0] = 10  \n",
    " # Add a new element\n",
    "my_list.append(4) \n",
    "print(my_list)  \n",
    "\n",
    "## immuutable Data Types:\n",
    "my_string = \"Hello\"\n",
    " # This would raise an error because strings are immutable\n",
    "# my_string[0] = \"h\" \n",
    " # Reassign a new value to the string\n",
    "my_string = \"hello\" \n",
    "print(my_string)  # Output: hello\n",
    "\n"
   ]
  },
  {
   "cell_type": "markdown",
   "metadata": {},
   "source": [
    "### Fibonacci Sequence:\n"
   ]
  },
  {
   "cell_type": "markdown",
   "metadata": {},
   "source": [
    "#### Write a Python function that takes a number n and returns a list of the first n Fibonacci numbers.\n"
   ]
  },
  {
   "cell_type": "code",
   "execution_count": 8,
   "metadata": {},
   "outputs": [
    {
     "name": "stdout",
     "output_type": "stream",
     "text": [
      "[0, 1, 1, 2, 3, 5, 8, 13, 21, 34]\n"
     ]
    }
   ],
   "source": [
    "def fibo(n):\n",
    "    fibo_list=[0,1]\n",
    "    for i in range(2,n):\n",
    "        next_fibo=fibo_list[i-1]+fibo_list[i-2]\n",
    "        fibo_list.append(next_fibo)\n",
    "    return fibo_list[:n]\n",
    "\n",
    "n=10\n",
    "\n",
    "fibo_numbers=fibo(n)\n",
    "print(fibo_numbers)"
   ]
  },
  {
   "cell_type": "markdown",
   "metadata": {},
   "source": [
    "#### Plot the Fibonacci sequence using a line graph.\n",
    "\n"
   ]
  },
  {
   "cell_type": "code",
   "execution_count": 9,
   "metadata": {},
   "outputs": [
    {
     "data": {
      "text/plain": [
       "<matplotlib.legend.Legend at 0x7f0658412780>"
      ]
     },
     "execution_count": 9,
     "metadata": {},
     "output_type": "execute_result"
    },
    {
     "data": {
      "image/png": "[encoded data removed]",
      "text/plain": [
       "<Figure size 640x480 with 1 Axes>"
      ]
     },
     "metadata": {},
     "output_type": "display_data"
    }
   ],
   "source": [
    "import matplotlib.pyplot as plt\n",
    "plt.plot(range(n), fibo_numbers, marker='o', color='r', label=\"Fibonacci\")\n",
    "plt.title(\"Fibonacci Sequence\")\n",
    "plt.xlabel(\"Index\")\n",
    "plt.ylabel(\"Fibonacci Number\")\n",
    "plt.legend()"
   ]
  },
  {
   "cell_type": "markdown",
   "metadata": {},
   "source": [
    "#### List Manipulation: Given a list [3, 5, 7, 9, 11, 13]:\n",
    "\n"
   ]
  },
  {
   "cell_type": "code",
   "execution_count": 10,
   "metadata": {},
   "outputs": [],
   "source": [
    "numbers=[3,5,7,9,11,13]\n"
   ]
  },
  {
   "cell_type": "markdown",
   "metadata": {},
   "source": [
    "#### Insert 6 at the 3rd index."
   ]
  },
  {
   "cell_type": "code",
   "execution_count": 11,
   "metadata": {},
   "outputs": [
    {
     "name": "stdout",
     "output_type": "stream",
     "text": [
      "List after inserting 6 at the 3rd index: [3, 5, 7, 6, 9, 11, 13]\n"
     ]
    }
   ],
   "source": [
    "numbers.insert(3, 6)\n",
    "print(\"List after inserting 6 at the 3rd index:\", numbers)"
   ]
  },
  {
   "cell_type": "markdown",
   "metadata": {},
   "source": [
    "#### Remove the number 7 from the list.\n"
   ]
  },
  {
   "cell_type": "code",
   "execution_count": 12,
   "metadata": {},
   "outputs": [
    {
     "name": "stdout",
     "output_type": "stream",
     "text": [
      "List after removing 7: [3, 5, 6, 9, 11, 13]\n"
     ]
    }
   ],
   "source": [
    "numbers.remove(7)\n",
    "print(\"List after removing 7:\", numbers)\n"
   ]
  },
  {
   "cell_type": "markdown",
   "metadata": {},
   "source": [
    "#### Reverse the list.\n"
   ]
  },
  {
   "cell_type": "code",
   "execution_count": 13,
   "metadata": {},
   "outputs": [
    {
     "name": "stdout",
     "output_type": "stream",
     "text": [
      "List after reversing: [13, 11, 9, 6, 5, 3]\n"
     ]
    }
   ],
   "source": [
    "numbers.reverse()\n",
    "print(\"List after reversing:\", numbers)"
   ]
  },
  {
   "cell_type": "markdown",
   "metadata": {},
   "source": [
    "#### Calculate the mean and median of the modified list."
   ]
  },
  {
   "cell_type": "code",
   "execution_count": 14,
   "metadata": {},
   "outputs": [
    {
     "name": "stdout",
     "output_type": "stream",
     "text": [
      "Mean of the list: 7.833333333333333\n"
     ]
    }
   ],
   "source": [
    "mean = sum(numbers) / len(numbers)\n",
    "print(\"Mean of the list:\", mean)"
   ]
  },
  {
   "cell_type": "code",
   "execution_count": 15,
   "metadata": {},
   "outputs": [
    {
     "name": "stdout",
     "output_type": "stream",
     "text": [
      "Median of the list: 7.5\n"
     ]
    }
   ],
   "source": [
    "sorted_list = sorted(numbers)\n",
    "\n",
    "n = len(sorted_list)\n",
    "if n % 2 == 1:\n",
    "    median = sorted_list[n // 2]  \n",
    "else:\n",
    "    median = (sorted_list[n // 2 - 1] + sorted_list[n // 2]) / 2 \n",
    "\n",
    "print(\"Median of the list:\", median)"
   ]
  },
  {
   "cell_type": "markdown",
   "metadata": {},
   "source": [
    "#### User Input and Basic Statistics:\n",
    "Plot a histogram of the numbers."
   ]
  },
  {
   "cell_type": "code",
   "execution_count": 16,
   "metadata": {},
   "outputs": [
    {
     "name": "stdout",
     "output_type": "stream",
     "text": [
      "Numbers: [6, 6, 3, 7, 2, 8, 9, 2]\n"
     ]
    }
   ],
   "source": [
    "\n",
    "\n",
    "### Write a program to read a comma-separated list of numbers from the user (e.g., “10, 20, 30, 40”).\n",
    "user_input=input('enter numbers')\n",
    "numbers=[int(x) for x in user_input.split(',')]\n",
    "print('Numbers:',numbers)\n",
    "\n",
    "### Calculate the mean of the numbers.\n",
    "def calculate_mean(numbers):\n",
    "    return sum(numbers) / len(numbers)\n",
    "mean=calculate_mean(numbers)\n",
    "\n",
    "\n",
    "\n"
   ]
  },
  {
   "cell_type": "code",
   "execution_count": 17,
   "metadata": {},
   "outputs": [
    {
     "name": "stdout",
     "output_type": "stream",
     "text": [
      "Smallest number: 2\n",
      "Largest number: 9\n"
     ]
    }
   ],
   "source": [
    "#### Identify and print the smallest and largest numbers.\n",
    "# Identify smallest and largest numbers\n",
    "smallest = min(numbers)\n",
    "largest = max(numbers)\n",
    "print(f\"Smallest number: {smallest}\")\n",
    "print(f\"Largest number: {largest}\")"
   ]
  },
  {
   "cell_type": "code",
   "execution_count": 18,
   "metadata": {},
   "outputs": [
    {
     "data": {
      "image/png": "[encoded data removed]",
      "text/plain": [
       "<Figure size 640x480 with 1 Axes>"
      ]
     },
     "metadata": {},
     "output_type": "display_data"
    }
   ],
   "source": [
    "# Plot a histogram of the numbers\n",
    "plt.hist(numbers, bins=10, color='blue', edgecolor='black')\n",
    "plt.title('Histogram of the Numbers')\n",
    "plt.xlabel('Number Range')\n",
    "plt.ylabel('Frequency')\n",
    "plt.show()"
   ]
  },
  {
   "cell_type": "markdown",
   "metadata": {},
   "source": [
    "#### Palindrome Check:\n",
    "Write a program to check if a string is a palindrome (ignoring spaces and case).\n",
    "Input: \"A man a plan a canal Panama\"\n",
    "Output: True"
   ]
  },
  {
   "cell_type": "code",
   "execution_count": 19,
   "metadata": {},
   "outputs": [
    {
     "name": "stdout",
     "output_type": "stream",
     "text": [
      "Is the string a palindrome? True\n"
     ]
    }
   ],
   "source": [
    "def plaindrome_check(s):\n",
    "    clear_string=''.join(char.lower() for char in s if char.isalnum())\n",
    "\n",
    "    return clear_string==clear_string[::-1]\n",
    "\n",
    "string = \"A man a plan a canal Panama\"\n",
    "\n",
    "result=plaindrome_check(string)\n",
    "print(f\"Is the string a palindrome? {result}\")\n"
   ]
  },
  {
   "cell_type": "markdown",
   "metadata": {},
   "source": [
    "#### Dictionary Operations:\n",
    "\n",
    "Visualize the distribution of marks using a bar chart.\n",
    "\n"
   ]
  },
  {
   "cell_type": "code",
   "execution_count": 20,
   "metadata": {},
   "outputs": [],
   "source": [
    "## Create a dictionary of student names (keys) and their marks (values).\n",
    "student_marks = {\n",
    "    \"A\": 85,\n",
    "    \"B\": 78,\n",
    "    \"C\": 92,\n",
    "    \"D\": 65,\n",
    "    \"E\": 74,\n",
    "    \"F\": 88,\n",
    "    \"G\": 90\n",
    "}"
   ]
  },
  {
   "cell_type": "code",
   "execution_count": 21,
   "metadata": {},
   "outputs": [
    {
     "name": "stdout",
     "output_type": "stream",
     "text": [
      "Average marks: 81.71\n"
     ]
    }
   ],
   "source": [
    "#### Compute the average marks.\n",
    "average_marks = sum(student_marks.values()) / len(student_marks)\n",
    "print(f\"Average marks: {average_marks:.2f}\")"
   ]
  },
  {
   "cell_type": "code",
   "execution_count": 22,
   "metadata": {},
   "outputs": [
    {
     "name": "stdout",
     "output_type": "stream",
     "text": [
      "Students scoring above the average: ['A', 'C', 'F', 'G']\n"
     ]
    }
   ],
   "source": [
    "# Print the names of students scoring above the average\n",
    "above_average_students = [name for name, marks in student_marks.items() if marks > average_marks]\n",
    "print(\"Students scoring above the average:\", above_average_students)"
   ]
  },
  {
   "cell_type": "code",
   "execution_count": 23,
   "metadata": {},
   "outputs": [
    {
     "data": {
      "image/png": "[encoded data removed]",
      "text/plain": [
       "<Figure size 640x480 with 1 Axes>"
      ]
     },
     "metadata": {},
     "output_type": "display_data"
    }
   ],
   "source": [
    "# Visualize the distribution of marks using a bar chart\n",
    "plt.bar(student_marks.keys(), student_marks.values(), color='blue', edgecolor='black')\n",
    "plt.axhline(average_marks, color='red', linestyle='dashed', linewidth=1, label='Average Marks')\n",
    "plt.title('Student Marks Distribution')\n",
    "plt.xlabel('Student Names')\n",
    "plt.ylabel('Marks')\n",
    "plt.xticks(rotation=45)  # \n",
    "plt.legend()\n",
    "plt.grid(axis='y', linestyle='--', alpha=0.7)\n",
    "plt.tight_layout() \n",
    "plt.show()"
   ]
  },
  {
   "cell_type": "markdown",
   "metadata": {},
   "source": [
    "#### Tuple List Creation:\n"
   ]
  },
  {
   "cell_type": "code",
   "execution_count": 24,
   "metadata": {},
   "outputs": [
    {
     "name": "stdout",
     "output_type": "stream",
     "text": [
      "numbers_and_squares: [(1, 1), (2, 4), (3, 9), (4, 16), (5, 25), (6, 36), (7, 49), (8, 64), (9, 81), (10, 100)]\n"
     ]
    }
   ],
   "source": [
    "# Create a list of tuples with numbers and their squares\n",
    "numbers_and_squares = [(x, x**2) for x in range(1, 11)]\n",
    "print('numbers_and_squares:',numbers_and_squares)"
   ]
  },
  {
   "cell_type": "code",
   "execution_count": 25,
   "metadata": {},
   "outputs": [
    {
     "name": "stdout",
     "output_type": "stream",
     "text": [
      "[1, 2, 3, 4, 5, 6, 7, 8, 9, 10]\n",
      "[1, 4, 9, 16, 25, 36, 49, 64, 81, 100]\n"
     ]
    }
   ],
   "source": [
    "# Extract numbers and their squares for plotting\n",
    "numbers = [x[0] for x in numbers_and_squares]\n",
    "squares = [x[1] for x in numbers_and_squares]\n",
    "\n",
    "print(numbers)\n",
    "print(squares)"
   ]
  },
  {
   "cell_type": "code",
   "execution_count": 26,
   "metadata": {},
   "outputs": [
    {
     "data": {
      "image/png": "[encoded data removed]",
      "text/plain": [
       "<Figure size 640x480 with 1 Axes>"
      ]
     },
     "metadata": {},
     "output_type": "display_data"
    }
   ],
   "source": [
    "# Plot a scatter plot\n",
    "plt.scatter(numbers, squares, color='blue', label='Number vs Square', edgecolor='black')\n",
    "plt.title('Numbers and Their Squares')\n",
    "plt.xlabel('Number')\n",
    "plt.ylabel('Square')\n",
    "plt.legend()\n",
    "plt.show()\n"
   ]
  },
  {
   "cell_type": "markdown",
   "metadata": {},
   "source": [
    "#### Merging Dictionaries:\n"
   ]
  },
  {
   "cell_type": "code",
   "execution_count": 27,
   "metadata": {},
   "outputs": [
    {
     "name": "stdout",
     "output_type": "stream",
     "text": [
      "final Dictionary: {'a': 10, 'b': 35, 'c': 55, 'd': 40}\n"
     ]
    }
   ],
   "source": [
    "## Write Python code to merge two dictionaries. If a key is present in both, sum their values.\n",
    "\n",
    "dict1 = {'a': 10, 'b': 20, 'c': 30}\n",
    "dict2 = {'b': 15, 'c': 25, 'd': 40}\n",
    "\n",
    "\n",
    "final_dict = dict1.copy()  \n",
    "for key, value in dict2.items():\n",
    "    if key in final_dict:\n",
    "        final_dict[key] += value  \n",
    "    else:\n",
    "        final_dict[key] = value  \n",
    "# Print the final dictionary\n",
    "print(\"final Dictionary:\", final_dict)\n"
   ]
  },
  {
   "cell_type": "markdown",
   "metadata": {},
   "source": [
    "#### Character Frequency:\n",
    "\n",
    "Returns a dictionary with characters as keys and their counts as values.\n"
   ]
  },
  {
   "cell_type": "code",
   "execution_count": 28,
   "metadata": {},
   "outputs": [
    {
     "name": "stdout",
     "output_type": "stream",
     "text": [
      "Character Frequency: {'a': 10, 'm': 2, 'n': 4, 'p': 2, 'l': 2, 'c': 1}\n"
     ]
    }
   ],
   "source": [
    "##Write a function that accepts a string and: Converts all characters to lowercase. Counts the frequency of each character.\n",
    "def character_frequency(s):\n",
    "    s = s.lower()\n",
    "    freq_dict = {}\n",
    "    for char in s:\n",
    "        if char.isalnum():  \n",
    "            freq_dict[char] = freq_dict.get(char, 0) + 1\n",
    "    \n",
    "    return freq_dict\n",
    "\n",
    "input_string = \"A man a plan a canal Panama\"\n",
    "freq_dict = character_frequency(input_string)\n",
    "print(\"Character Frequency:\", freq_dict)\n"
   ]
  },
  {
   "cell_type": "code",
   "execution_count": 29,
   "metadata": {},
   "outputs": [
    {
     "data": {
      "image/png": "[encoded data removed]",
      "text/plain": [
       "<Figure size 640x480 with 1 Axes>"
      ]
     },
     "metadata": {},
     "output_type": "display_data"
    }
   ],
   "source": [
    "##Visualize the character frequencies using a bar chart.\n",
    "def plot_character_frequency(freq_dict):\n",
    "    # Extract characters and frequencies for plotting\n",
    "    characters = list(freq_dict.keys())\n",
    "    frequencies = list(freq_dict.values())\n",
    "    plt.bar(characters, frequencies, color='blue', edgecolor='black')\n",
    "    plt.title('Character Frequency Distribution')\n",
    "    plt.xlabel('Characters')\n",
    "    plt.ylabel('Frequency')\n",
    "    plt.grid(axis='y', linestyle='--', alpha=0.7)\n",
    "    plt.tight_layout()  \n",
    "    plt.show()\n",
    "\n",
    "\n",
    "\n",
    "plot_character_frequency(freq_dict)\n"
   ]
  },
  {
   "cell_type": "markdown",
   "metadata": {},
   "source": [
    "#### Remove Duplicates:"
   ]
  },
  {
   "cell_type": "code",
   "execution_count": 30,
   "metadata": {},
   "outputs": [
    {
     "name": "stdout",
     "output_type": "stream",
     "text": [
      "Unique numbers: [1, 2, 3, 4, 5, 6, 7, 8, 9, 10]\n"
     ]
    }
   ],
   "source": [
    "## Write a program to remove duplicate elements from a list while maintaining the order of elements.\n",
    "unique_numbers = []\n",
    "for num in numbers:\n",
    "    if num not in unique_numbers:\n",
    "        unique_numbers.append(num)\n",
    "print(\"Unique numbers:\", unique_numbers)"
   ]
  },
  {
   "cell_type": "code",
   "execution_count": 32,
   "metadata": {},
   "outputs": [
    {
     "name": "stdout",
     "output_type": "stream",
     "text": [
      "Mean of unique numbers: 5.5\n",
      "Median of unique numbers: 5.5\n"
     ]
    }
   ],
   "source": [
    "## Calculate the mean and median of the unique elements.\n",
    "mean_unique = sum(unique_numbers) / len(unique_numbers)\n",
    "print(\"Mean of unique numbers:\", mean_unique)\n",
    "\n",
    "n = len(unique_numbers)\n",
    "unique_numbers.sort()\n",
    "if n % 2 == 1:\n",
    "    median_unique = unique_numbers[n // 2]\n",
    "else:\n",
    "    median_unique = (unique_numbers[n // 2 - 1] + unique_numbers[n // 2]) / 2\n",
    "print(\"Median of unique numbers:\", median_unique)"
   ]
  },
  {
   "cell_type": "markdown",
   "metadata": {},
   "source": [
    "#### String Operations:\n",
    "\n"
   ]
  },
  {
   "cell_type": "code",
   "execution_count": 33,
   "metadata": {},
   "outputs": [
    {
     "name": "stdout",
     "output_type": "stream",
     "text": [
      "Longest string: banana\n"
     ]
    }
   ],
   "source": [
    "##Given a list of strings, write a Python function to: Find the longest string.\n",
    "strings = [\"apple\", \"banana\", \"cherry\", \"date\", \"fig\", \"grape\"]\n",
    "longest_string=\"\"\n",
    "for string in strings:\n",
    "    if len(string)>len(longest_string):\n",
    "        longest_string=string\n",
    "print(\"Longest string:\", longest_string)"
   ]
  },
  {
   "cell_type": "code",
   "execution_count": 34,
   "metadata": {},
   "outputs": [
    {
     "name": "stdout",
     "output_type": "stream",
     "text": [
      "Number of strings starting with a vowel: 1\n"
     ]
    }
   ],
   "source": [
    "## Count how many strings start with a vowel.\n",
    "vowels = {'a', 'e', 'i', 'o', 'u'}\n",
    "count_vowel_start = sum(1 for s in strings if s[0].lower() in vowels)\n",
    "print(\"Number of strings starting with a vowel:\", count_vowel_start)\n"
   ]
  },
  {
   "cell_type": "code",
   "execution_count": 35,
   "metadata": {},
   "outputs": [
    {
     "data": {
      "image/png": "[encoded data removed]",
      "text/plain": [
       "<Figure size 640x480 with 1 Axes>"
      ]
     },
     "metadata": {},
     "output_type": "display_data"
    }
   ],
   "source": [
    "## Visualize the distribution of string lengths using a histogram.\n",
    "lengths = [len(s) for s in strings]\n",
    "plt.hist(lengths, bins=range(1, max(lengths) + 2), edgecolor='black', alpha=0.75)\n",
    "plt.title(\"Distribution of String Lengths\")\n",
    "plt.xlabel(\"String Length\")\n",
    "plt.ylabel(\"Frequency\")\n",
    "plt.show()"
   ]
  },
  {
   "cell_type": "markdown",
   "metadata": {},
   "source": [
    "#### Sorting Dictionaries:\n",
    "\n"
   ]
  },
  {
   "cell_type": "code",
   "execution_count": 36,
   "metadata": {},
   "outputs": [
    {
     "name": "stdout",
     "output_type": "stream",
     "text": [
      "Sorted by age: [{'name': 'Bob', 'age': 22}, {'name': 'Alice', 'age': 25}]\n"
     ]
    }
   ],
   "source": [
    "## Write a function to sort a list of dictionaries by a key.\n",
    "def sort_list_dists(data, key):\n",
    "    for i in range(len(data)):\n",
    "        for j in range(0,len(data)-i-1):\n",
    "            if data[j][key]>data[j+1][key]:\n",
    "                data[j],data[j+1]=data[j+1],data[j]\n",
    "    return data\n",
    "\n",
    "data = [{'name': 'Alice', 'age': 25}, {'name': 'Bob', 'age': 22}]\n",
    "sorted_data = sort_list_dists(data, 'age')\n",
    "\n",
    "print(\"Sorted by age:\", sorted_data)\n"
   ]
  },
  {
   "cell_type": "markdown",
   "metadata": {},
   "source": [
    "#### Word Filtering and Sorting:"
   ]
  },
  {
   "cell_type": "code",
   "execution_count": 44,
   "metadata": {},
   "outputs": [
    {
     "name": "stdout",
     "output_type": "stream",
     "text": [
      "Words: ['Write', 'a', 'program', 'to', 'split', 'a', 'string', 'into', 'a', 'list', 'of', 'words', 'and', 'remove', 'short', 'ones']\n"
     ]
    }
   ],
   "source": [
    "## Split a string into a list of words.\n",
    "sentence =\"Write a program to split a string into a list of words and remove short ones\"\n",
    "words = sentence.split()\n",
    "print(\"Words:\", words)\n",
    "\n"
   ]
  },
  {
   "cell_type": "code",
   "execution_count": 45,
   "metadata": {},
   "outputs": [
    {
     "name": "stdout",
     "output_type": "stream",
     "text": [
      "Filtered Words: ['Write', 'program', 'split', 'string', 'into', 'list', 'words', 'remove', 'short', 'ones']\n"
     ]
    }
   ],
   "source": [
    "## Remove all words that are shorter than 4 characters.\n",
    "filtered_words = [word for word in words if len(word) >= 4]\n",
    "print(\"Filtered Words:\", filtered_words)\n"
   ]
  },
  {
   "cell_type": "code",
   "execution_count": 46,
   "metadata": {},
   "outputs": [
    {
     "name": "stdout",
     "output_type": "stream",
     "text": [
      "Sorted Words: ['Write', 'into', 'list', 'ones', 'program', 'remove', 'short', 'split', 'string', 'words']\n"
     ]
    }
   ],
   "source": [
    "## Sort the remaining words alphabetically.\n",
    "\n",
    "filtered_words.sort()\n",
    "print(\"Sorted Words:\", filtered_words)"
   ]
  },
  {
   "cell_type": "code",
   "execution_count": 48,
   "metadata": {},
   "outputs": [
    {
     "data": {
      "image/png": "[encoded data removed]",
      "text/plain": [
       "<Figure size 640x480 with 1 Axes>"
      ]
     },
     "metadata": {},
     "output_type": "display_data"
    }
   ],
   "source": [
    "## Visualize the word lengths using a bar chart.\n",
    "word_lengths = [len(word) for word in filtered_words]\n",
    "plt.bar(filtered_words, word_lengths, color='blue', edgecolor='black')\n",
    "plt.title('Word Lengths')\n",
    "plt.xlabel('Words')\n",
    "plt.ylabel('Length')\n",
    "plt.grid(axis='y', linestyle='--', alpha=0.7)\n",
    "plt.tight_layout()\n"
   ]
  },
  {
   "cell_type": "markdown",
   "metadata": {},
   "source": [
    "#### Anagram Finder:\n",
    "Write a Python function to find all anagrams of a word in a given list.\n",
    "Input: word = \"listen\", words = [\"enlist\", \"google\", \"inlets\", \"banana\"]\n",
    "Output: [\"enlist\", \"inlets\"]"
   ]
  },
  {
   "cell_type": "code",
   "execution_count": 50,
   "metadata": {},
   "outputs": [
    {
     "name": "stdout",
     "output_type": "stream",
     "text": [
      "Anagrams: ['enlist', 'inlets']\n"
     ]
    }
   ],
   "source": [
    "word='listen'\n",
    "word_list=['enlist','google','inlets','banana']\n",
    "sorted_word=sorted(word)\n",
    "anagrams=[w for w in word_list if sorted(w)==sorted_word]\n",
    "print('Anagrams:',anagrams)\n"
   ]
  },
  {
   "cell_type": "markdown",
   "metadata": {},
   "source": [
    "#### Set Operations:\n"
   ]
  },
  {
   "cell_type": "code",
   "execution_count": 51,
   "metadata": {},
   "outputs": [
    {
     "name": "stdout",
     "output_type": "stream",
     "text": [
      "Intersection: {3, 4, 5}\n",
      "Union: {1, 2, 3, 4, 5, 6, 7}\n",
      "Symmetric Difference: {1, 2, 6, 7}\n"
     ]
    }
   ],
   "source": [
    "## Given two lists, write Python code to find their intersection, union, and symmetric difference.\n",
    "list1 = [1, 2, 3, 4, 5]\n",
    "list2 = [3, 4, 5, 6, 7]\n",
    "set1 = set(list1)\n",
    "set2 = set(list2)\n",
    "intersection = set1&set2\n",
    "union = set1|set2\n",
    "symmetric_diff = set1^set2\n",
    "print(\"Intersection:\", intersection)\n",
    "print(\"Union:\", union)\n",
    "print(\"Symmetric Difference:\", symmetric_diff)\n"
   ]
  },
  {
   "cell_type": "code",
   "execution_count": 57,
   "metadata": {},
   "outputs": [
    {
     "data": {
      "image/png": "[encoded data removed]",
      "text/plain": [
       "<Figure size 400x300 with 1 Axes>"
      ]
     },
     "metadata": {},
     "output_type": "display_data"
    }
   ],
   "source": [
    "## Visualize the results using Venn diagrams.\n",
    "from matplotlib_venn import venn2\n",
    "plt.figure(figsize=(4, 3))\n",
    "venn = venn2([set1, set2], ('List 1', 'List 2'))\n",
    "venn.get_label_by_id('10').set_text(set1 - set2)  \n",
    "venn.get_label_by_id('01').set_text(set2 - set1)  \n",
    "venn.get_label_by_id('11').set_text(intersection)  \n",
    "plt.title(\"Venn Diagram of Set Operations\")\n",
    "plt.show()\n"
   ]
  },
  {
   "cell_type": "markdown",
   "metadata": {},
   "source": [
    "#### File Operations:\n"
   ]
  },
  {
   "cell_type": "code",
   "execution_count": 58,
   "metadata": {},
   "outputs": [],
   "source": [
    "## Create a text file.Write a list of numbers to the file (one per line).\n",
    "\n",
    "numbers=[1,2,3,4,5]\n",
    "with open('numbers.txt','w') as file:\n",
    "    for number in numbers:\n",
    "        file.write(f\"{number}\\n\")\n",
    "\n"
   ]
  },
  {
   "cell_type": "code",
   "execution_count": 59,
   "metadata": {},
   "outputs": [
    {
     "name": "stdout",
     "output_type": "stream",
     "text": [
      "Total: 15\n"
     ]
    }
   ],
   "source": [
    "## Read the file and compute their sum.\n",
    "total=0\n",
    "with open('numbers.txt','r') as file:\n",
    "    for line in file:\n",
    "        total+=int(line.strip())\n",
    "print(\"Total:\",total)"
   ]
  },
  {
   "cell_type": "markdown",
   "metadata": {},
   "source": [
    "#### Word Count and Frequency:\n"
   ]
  },
  {
   "cell_type": "code",
   "execution_count": 60,
   "metadata": {},
   "outputs": [],
   "source": [
    "content=\"Hello, this is a sample text file.\\nThis file contains multiple lines of text.\\nThis is the third line of the file.\"\n",
    "with open('sample.txt','w') as file:\n",
    "    file.write(content)\n"
   ]
  },
  {
   "cell_type": "code",
   "execution_count": 63,
   "metadata": {},
   "outputs": [
    {
     "name": "stdout",
     "output_type": "stream",
     "text": [
      "['Hello,', 'this', 'is', 'a', 'sample', 'text', 'file.']\n",
      "['This', 'file', 'contains', 'multiple', 'lines', 'of', 'text.']\n",
      "['This', 'is', 'the', 'third', 'line', 'of', 'the', 'file.']\n",
      "Word Count: 22\n"
     ]
    }
   ],
   "source": [
    "## Read a file and count the number of words in it.\n",
    "word_count=0\n",
    "with open('sample.txt','r') as file:\n",
    "    for line in file:\n",
    "        print(line.split())\n",
    "        word_count+=len(line.split())\n",
    "print(\"Word Count:\",word_count)"
   ]
  },
  {
   "cell_type": "code",
   "execution_count": 66,
   "metadata": {},
   "outputs": [
    {
     "name": "stdout",
     "output_type": "stream",
     "text": [
      "Word Frequency: {'Hello,': 1, 'this': 1, 'is': 2, 'a': 1, 'sample': 1, 'text': 1, 'file.': 2, 'This': 2, 'file': 1, 'contains': 1, 'multiple': 1, 'lines': 1, 'of': 2, 'text.': 1, 'the': 2, 'third': 1, 'line': 1}\n",
      "Most Frequent Word: is\n"
     ]
    }
   ],
   "source": [
    "## Find the most frequent word.\n",
    "word_freq={}\n",
    "with open('sample.txt','r') as file:\n",
    "    for line in file:\n",
    "        for word in line.split():\n",
    "            word_freq[word]=word_freq.get(word,0)+1\n",
    "print(\"Word Frequency:\",word_freq)\n",
    "most_frequent_word=max(word_freq,key=word_freq.get)\n",
    "\n",
    "print(\"Most Frequent Word:\",most_frequent_word)"
   ]
  },
  {
   "cell_type": "code",
   "execution_count": 67,
   "metadata": {},
   "outputs": [
    {
     "data": {
      "text/plain": [
       "Text(0, 0.5, 'Frequency')"
      ]
     },
     "execution_count": 67,
     "metadata": {},
     "output_type": "execute_result"
    },
    {
     "data": {
      "image/png": "[encoded data removed]",
      "text/plain": [
       "<Figure size 640x480 with 1 Axes>"
      ]
     },
     "metadata": {},
     "output_type": "display_data"
    }
   ],
   "source": [
    "## Visualize the word frequencies using a bar chart.\n",
    "words = list(word_freq.keys())\n",
    "frequencies = list(word_freq.values())\n",
    "plt.bar(words, frequencies, color='blue', edgecolor='black')\n",
    "plt.title('Word Frequency Distribution')\n",
    "plt.xlabel('Words')\n",
    "plt.ylabel('Frequency')\n"
   ]
  },
  {
   "cell_type": "markdown",
   "metadata": {},
   "source": [
    "#### Random Number Generation:"
   ]
  },
  {
   "cell_type": "code",
   "execution_count": 68,
   "metadata": {},
   "outputs": [
    {
     "name": "stdout",
     "output_type": "stream",
     "text": [
      "Random Numbers: [22, 34, 37, 44, 35, 16, 45, 49, 29, 5, 34, 29, 37, 29, 6, 1, 21, 48, 27, 47, 46, 18, 46, 50, 13, 27, 33, 20, 7, 20, 40, 46, 22, 10, 35, 44, 35, 46, 44, 21, 41, 27, 10, 34, 25, 6, 23, 13, 14, 26, 10, 29, 35, 15, 38, 47, 50, 40, 28, 22, 31, 23, 34, 9, 16, 4, 15, 48, 8, 16, 47, 28, 10, 11, 4, 27, 39, 3, 39, 1, 6, 43, 25, 14, 11, 17, 40, 46, 18, 3, 41, 12, 28, 21, 44, 12, 1, 4, 23, 25]\n"
     ]
    }
   ],
   "source": [
    "## Generate 100 random integers between 1 and 50. \n",
    "import random\n",
    "random_numbers = [random.randint(1, 50) for _ in range(100)]\n",
    "print(\"Random Numbers:\", random_numbers)\n",
    "\n",
    "\n"
   ]
  },
  {
   "cell_type": "code",
   "execution_count": 69,
   "metadata": {},
   "outputs": [],
   "source": [
    "## Save them in a text file, one per line.\n",
    "with open('random_numbers.txt', 'w') as file:\n",
    "    for number in random_numbers:\n",
    "        file.write(f\"{number}\\n\")\n",
    "        "
   ]
  },
  {
   "cell_type": "code",
   "execution_count": 70,
   "metadata": {},
   "outputs": [
    {
     "name": "stdout",
     "output_type": "stream",
     "text": [
      "Mean of Random Numbers: 25.98\n"
     ]
    }
   ],
   "source": [
    "## Read the file and compute the mean of the numbers.\n",
    "total = 0\n",
    "count = 0\n",
    "with open('random_numbers.txt', 'r') as file:\n",
    "    for line in file:\n",
    "        total += int(line.strip())\n",
    "        count += 1\n",
    "mean = total / count\n",
    "print(\"Mean of Random Numbers:\", mean)"
   ]
  },
  {
   "cell_type": "code",
   "execution_count": 71,
   "metadata": {},
   "outputs": [
    {
     "data": {
      "text/plain": [
       "Text(0, 0.5, 'Frequency')"
      ]
     },
     "execution_count": 71,
     "metadata": {},
     "output_type": "execute_result"
    },
    {
     "data": {
      "image/png": "[encoded data removed]",
      "text/plain": [
       "<Figure size 640x480 with 1 Axes>"
      ]
     },
     "metadata": {},
     "output_type": "display_data"
    }
   ],
   "source": [
    "## Visualize the distribution of the numbers using a histogram.\n",
    "plt.hist(random_numbers, bins=range(1, 51), color='blue', edgecolor='black')\n",
    "plt.title('Random Number Distribution')\n",
    "plt.xlabel('Number Range')\n",
    "plt.ylabel('Frequency')\n"
   ]
  },
  {
   "cell_type": "markdown",
   "metadata": {},
   "source": [
    "#### CSV File Operations:\n"
   ]
  },
  {
   "cell_type": "code",
   "execution_count": 75,
   "metadata": {},
   "outputs": [],
   "source": [
    "##make a csv file\n",
    "import csv\n",
    "data = [\n",
    "    ['Name', 'Age', 'City'],\n",
    "    ['Alice', 25, 'New York'],\n",
    "    ['Bob', 30, 'Los Angeles'],\n",
    "    ['Charlie', 35, 'Chicago']\n",
    "]\n",
    "with open('data.csv', 'w', newline='') as file:\n",
    "    writer = csv.writer(file)\n",
    "    writer.writerows(data)\n",
    "    "
   ]
  },
  {
   "cell_type": "markdown",
   "metadata": {},
   "source": [
    "#### Basic Statistics:\n"
   ]
  },
  {
   "cell_type": "code",
   "execution_count": 79,
   "metadata": {},
   "outputs": [
    {
     "name": "stdout",
     "output_type": "stream",
     "text": [
      "Mean: 30\n",
      "Median: 30\n",
      "Mode: 10\n",
      "Standard Deviation: 15.811388300841896\n"
     ]
    }
   ],
   "source": [
    "##Mean, median, mode, and standard deviation of a list of numbers.\n",
    "import statistics\n",
    "numbers = [10, 20, 30, 40, 50]\n",
    "mean = statistics.mean(numbers)\n",
    "median = statistics.median(numbers)\n",
    "mode = statistics.mode(numbers)\n",
    "stdev = statistics.stdev(numbers)\n",
    "print(\"Mean:\", mean)\n",
    "print(\"Median:\", median)\n",
    "print(\"Mode:\", mode)\n",
    "print(\"Standard Deviation:\", stdev)\n"
   ]
  },
  {
   "cell_type": "code",
   "execution_count": 80,
   "metadata": {},
   "outputs": [
    {
     "data": {
      "text/plain": [
       "Text(0, 0.5, 'Value')"
      ]
     },
     "execution_count": 80,
     "metadata": {},
     "output_type": "execute_result"
    },
    {
     "data": {
      "image/png": "[encoded data removed]",
      "text/plain": [
       "<Figure size 640x480 with 1 Axes>"
      ]
     },
     "metadata": {},
     "output_type": "display_data"
    }
   ],
   "source": [
    "## Visualize the data using a box plot.\n",
    "plt.boxplot(numbers)\n",
    "plt.title('Box Plot of Numbers')\n",
    "plt.ylabel('Value')"
   ]
  },
  {
   "cell_type": "markdown",
   "metadata": {},
   "source": [
    "#### Normalization:\n"
   ]
  },
  {
   "cell_type": "code",
   "execution_count": 81,
   "metadata": {},
   "outputs": [
    {
     "name": "stdout",
     "output_type": "stream",
     "text": [
      "Normalized Numbers: [0.0, 0.25, 0.5, 0.75, 1.0]\n"
     ]
    }
   ],
   "source": [
    "## Write a Python function to normalize a list of numbers to a range of 0 to 1.\n",
    "def normalize(numbers):\n",
    "    min_val = min(numbers)\n",
    "    max_val = max(numbers)\n",
    "    return [(x - min_val) / (max_val - min_val) for x in numbers]\n",
    "\n",
    "numbers = [10, 20, 30, 40, 50]\n",
    "normalized_numbers = normalize(numbers)\n",
    "print(\"Normalized Numbers:\", normalized_numbers)"
   ]
  },
  {
   "cell_type": "code",
   "execution_count": 82,
   "metadata": {},
   "outputs": [
    {
     "data": {
      "text/plain": [
       "<matplotlib.legend.Legend at 0x7f05a9b31970>"
      ]
     },
     "execution_count": 82,
     "metadata": {},
     "output_type": "execute_result"
    },
    {
     "data": {
      "image/png": "[encoded data removed]",
      "text/plain": [
       "<Figure size 640x480 with 1 Axes>"
      ]
     },
     "metadata": {},
     "output_type": "display_data"
    }
   ],
   "source": [
    "## Visualize the normalized data using a line plot.\n",
    "plt.plot(normalized_numbers, marker='o', color='blue', label='Normalized Data')\n",
    "plt.title('Normalized Data')\n",
    "plt.xlabel('Index')\n",
    "plt.ylabel('Value')\n",
    "plt.legend()\n"
   ]
  },
  {
   "cell_type": "markdown",
   "metadata": {},
   "source": [
    "#### Even or Odd:\n"
   ]
  },
  {
   "cell_type": "code",
   "execution_count": 83,
   "metadata": {},
   "outputs": [
    {
     "name": "stdout",
     "output_type": "stream",
     "text": [
      "45 is odd.\n"
     ]
    }
   ],
   "source": [
    "## Write a Python program that takes an integer input from the user and prints whether the number is even or odd.\n",
    "number = int(input(\"Enter a number: \"))\n",
    "if number % 2 == 0:\n",
    "    print(f\"{number} is even.\")\n",
    "else:\n",
    "    print(f\"{number} is odd.\")\n",
    "\n",
    "    "
   ]
  },
  {
   "cell_type": "markdown",
   "metadata": {},
   "source": [
    "#### Grade Calculator:\n",
    "Write a Python program that takes a numerical grade (0-100) as input and prints the corresponding letter grade (A, B, C, D, F).\n"
   ]
  },
  {
   "cell_type": "code",
   "execution_count": 85,
   "metadata": {},
   "outputs": [
    {
     "name": "stdout",
     "output_type": "stream",
     "text": [
      "Letter Grade: D\n"
     ]
    }
   ],
   "source": [
    "def grade_calculator():\n",
    "    \n",
    "    grade = float(input(\"Enter the numerical grade (0-100): \"))\n",
    "\n",
    "    if grade < 0 or grade > 100:\n",
    "        print(\"Invalid input. Please enter a grade between 0 and 100.\")\n",
    "        return\n",
    "\n",
    "    if grade >= 90:\n",
    "        print(\"Letter Grade: A\")\n",
    "    elif grade >= 80:\n",
    "        print(\"Letter Grade: B\")\n",
    "    elif grade >= 70:\n",
    "        print(\"Letter Grade: C\")\n",
    "    elif grade >= 60:\n",
    "        print(\"Letter Grade: D\")\n",
    "    else:\n",
    "        print(\"Letter Grade: F\")\n",
    "\n",
    "grade_calculator()\n"
   ]
  },
  {
   "cell_type": "markdown",
   "metadata": {},
   "source": [
    "#### Leap Year Checker:\n"
   ]
  },
  {
   "cell_type": "code",
   "execution_count": 86,
   "metadata": {},
   "outputs": [
    {
     "name": "stdout",
     "output_type": "stream",
     "text": [
      "2004 is a leap year.\n"
     ]
    }
   ],
   "source": [
    "## Write a Python program that takes a year as input and checks if it is a leap year.\n",
    "year = int(input(\"Enter a year: \"))\n",
    "if year % 4 == 0 and (year % 100 != 0 or year % 400 == 0):\n",
    "    print(f\"{year} is a leap year.\")\n",
    "else:\n",
    "    print(f\"{year} is not a leap year.\")\n",
    "    \n"
   ]
  },
  {
   "cell_type": "code",
   "execution_count": null,
   "metadata": {},
   "outputs": [],
   "source": []
  }
 ],
 "metadata": {
  "kernelspec": {
   "display_name": "rishabh_sat",
   "language": "python",
   "name": "python3"
  },
  "language_info": {
   "codemirror_mode": {
    "name": "ipython",
    "version": 3
   },
   "file_extension": ".py",
   "mimetype": "text/x-python",
   "name": "python",
   "nbconvert_exporter": "python",
   "pygments_lexer": "ipython3",
   "version": "3.12.4"
  }
 },
 "nbformat": 4,
 "nbformat_minor": 2
}
