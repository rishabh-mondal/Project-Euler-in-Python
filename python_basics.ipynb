{
 "cells": [
  {
   "cell_type": "markdown",
   "metadata": {},
   "source": [
    "# Python Basics, Lists, Strings, Dictionaries, File Handling, Statistics, and Flow Control"
   ]
  },
  {
   "cell_type": "markdown",
   "metadata": {},
   "source": [
    "### 1. List Operations and Basic Statistics:\n"
   ]
  },
  {
   "cell_type": "markdown",
   "metadata": {},
   "source": [
    "#### Create a list of the first 20 natural numbers.\n"
   ]
  },
  {
   "cell_type": "code",
   "execution_count": 1,
   "metadata": {},
   "outputs": [
    {
     "name": "stdout",
     "output_type": "stream",
     "text": [
      "[1, 2, 3, 4, 5, 6, 7, 8, 9, 10, 11, 12, 13, 14, 15, 16, 17, 18, 19, 20]\n"
     ]
    }
   ],
   "source": [
    "natural= list(range(1,21))\n",
    "print(natural)"
   ]
  },
  {
   "cell_type": "markdown",
   "metadata": {},
   "source": [
    "#### Compute the sum of all even numbers in the list."
   ]
  },
  {
   "cell_type": "code",
   "execution_count": 2,
   "metadata": {},
   "outputs": [
    {
     "name": "stdout",
     "output_type": "stream",
     "text": [
      "sum of even numbers: 110\n"
     ]
    }
   ],
   "source": [
    "evensum=0\n",
    "for i in natural:\n",
    "    if i%2==0:\n",
    "        # print(i)\n",
    "        evensum=evensum+i\n",
    "print('sum of even numbers:',evensum)\n"
   ]
  },
  {
   "cell_type": "code",
   "execution_count": 5,
   "metadata": {},
   "outputs": [
    {
     "name": "stdout",
     "output_type": "stream",
     "text": [
      "sum of even numbers: 110\n"
     ]
    }
   ],
   "source": [
    "## optimise code \n",
    "even_sum=sum([i for i in natural if i%2==0])\n",
    "print('sum of even numbers:',even_sum)"
   ]
  },
  {
   "cell_type": "markdown",
   "metadata": {},
   "source": [
    "#### Compute the product of all odd numbers in the list."
   ]
  },
  {
   "cell_type": "code",
   "execution_count": 6,
   "metadata": {},
   "outputs": [
    {
     "name": "stdout",
     "output_type": "stream",
     "text": [
      "product of odd numbers: 654729075\n"
     ]
    }
   ],
   "source": [
    "odd_product=1\n",
    "for i in natural:\n",
    "    if i%2!=0:\n",
    "        # print(i)\n",
    "        odd_product=odd_product*i\n",
    "print('product of odd numbers:',odd_product)\n"
   ]
  },
  {
   "cell_type": "code",
   "execution_count": 9,
   "metadata": {},
   "outputs": [
    {
     "name": "stdout",
     "output_type": "stream",
     "text": [
      "654729075\n"
     ]
    }
   ],
   "source": [
    "## optimise code\n",
    "from functools import reduce\n",
    "\n",
    "oddproduct=reduce(lambda x,y: x*y, (i for i in natural if i%2 !=0))\n",
    "print(oddproduct)"
   ]
  },
  {
   "cell_type": "markdown",
   "metadata": {},
   "source": [
    "#### Calculate the mean, median, and standard deviation of the list.\n"
   ]
  },
  {
   "cell_type": "code",
   "execution_count": 27,
   "metadata": {},
   "outputs": [
    {
     "name": "stdout",
     "output_type": "stream",
     "text": [
      "Sum: 210\n",
      "Mean: 10.5\n",
      "sorted number: [1, 2, 3, 4, 5, 6, 7, 8, 9, 10, 11, 12, 13, 14, 15, 16, 17, 18, 19, 20]\n",
      "median: 10.5\n",
      "variance 33.25\n",
      "stdev: 5.766281297335398\n"
     ]
    }
   ],
   "source": [
    "import math\n",
    "natural_sum=sum(i for i in natural)\n",
    "print('Sum:',natural_sum)\n",
    "##mean\n",
    "mean=natural_sum/len(natural)\n",
    "print(\"Mean:\",mean)\n",
    "\n",
    "##Median\n",
    "sort_natural=sorted(natural)\n",
    "print(\"sorted number:\",sort_natural)\n",
    "n=len(natural)\n",
    "if n%2==0:\n",
    "    median=(sort_natural[n//2-1]+sort_natural[n//2])/2\n",
    "    print('median:',median)\n",
    "else:\n",
    "    median=sort_natural[n//2]\n",
    "    print('median:',median)\n",
    "\n",
    "##  Standard Deviation\n",
    "variance=sum((x-mean)**2 for x in natural)/ n\n",
    "print(\"variance\",variance)\n",
    "stdev=math.sqrt(variance)\n",
    "print('stdev:',stdev)\n",
    "\n",
    " \n",
    "\n",
    "\n"
   ]
  },
  {
   "cell_type": "code",
   "execution_count": null,
   "metadata": {},
   "outputs": [],
   "source": []
  }
 ],
 "metadata": {
  "kernelspec": {
   "display_name": "rishabh_sat",
   "language": "python",
   "name": "python3"
  },
  "language_info": {
   "codemirror_mode": {
    "name": "ipython",
    "version": 3
   },
   "file_extension": ".py",
   "mimetype": "text/x-python",
   "name": "python",
   "nbconvert_exporter": "python",
   "pygments_lexer": "ipython3",
   "version": "3.12.4"
  }
 },
 "nbformat": 4,
 "nbformat_minor": 2
}
